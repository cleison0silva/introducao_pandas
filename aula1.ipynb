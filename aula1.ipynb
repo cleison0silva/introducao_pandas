{
  "nbformat": 4,
  "nbformat_minor": 0,
  "metadata": {
    "colab": {
      "provenance": [],
      "collapsed_sections": []
    },
    "kernelspec": {
      "name": "python3",
      "display_name": "Python 3"
    },
    "language_info": {
      "name": "python"
    }
  },
  "cells": [
    {
      "cell_type": "markdown",
      "source": [
        "AULA 1"
      ],
      "metadata": {
        "id": "x93kp7vUsKp6"
      }
    },
    {
      "cell_type": "code",
      "execution_count": 1,
      "metadata": {
        "id": "xCb6-iUkr-fY"
      },
      "outputs": [],
      "source": [
        "#importando biblioteca\n",
        "\n",
        "import pandas as pd"
      ]
    },
    {
      "cell_type": "code",
      "source": [
        "#Criando o DataFrame\n",
        "\n",
        "df = pd.read_csv(\"Gapminder.csv\",error_bad_lines=False,sep=\";\")"
      ],
      "metadata": {
        "colab": {
          "base_uri": "https://localhost:8080/"
        },
        "id": "HFfVyf_PsZ2O",
        "outputId": "a4f5fc73-8774-4be3-d134-4fd6f9359a66"
      },
      "execution_count": 2,
      "outputs": [
        {
          "output_type": "stream",
          "name": "stderr",
          "text": [
            "/usr/local/lib/python3.7/dist-packages/IPython/core/interactiveshell.py:3326: FutureWarning: The error_bad_lines argument has been deprecated and will be removed in a future version.\n",
            "\n",
            "\n",
            "  exec(code_obj, self.user_global_ns, self.user_ns)\n"
          ]
        }
      ]
    },
    {
      "cell_type": "code",
      "source": [
        "#Renomeando as colunas\n",
        "\n",
        "df = df.rename(columns={\"country\": \"País\", \"continent\": \"Continente\", \"year\": \"Ano\", \"lifeExp\": \"Expect. de Vida\", \"pop\": \"População\", \"gdpPercap\": \"PIB\"})"
      ],
      "metadata": {
        "id": "AJyEpwS2sah4"
      },
      "execution_count": 3,
      "outputs": []
    },
    {
      "cell_type": "code",
      "source": [
        "print(df.head(10)) #imprime primeiras linhas"
      ],
      "metadata": {
        "colab": {
          "base_uri": "https://localhost:8080/"
        },
        "id": "iW8CKzJQsfTe",
        "outputId": "6359a9d2-6fb7-4329-c194-22c2c53e28d0"
      },
      "execution_count": 4,
      "outputs": [
        {
          "output_type": "stream",
          "name": "stdout",
          "text": [
            "          País Continente   Ano  Expect. de Vida  População         PIB\n",
            "0  Afghanistan       Asia  1952           28.801    8425333  779.445314\n",
            "1  Afghanistan       Asia  1957           30.332    9240934  820.853030\n",
            "2  Afghanistan       Asia  1962           31.997   10267083  853.100710\n",
            "3  Afghanistan       Asia  1967           34.020   11537966  836.197138\n",
            "4  Afghanistan       Asia  1972           36.088   13079460  739.981106\n",
            "5  Afghanistan       Asia  1977           38.438   14880372  786.113360\n",
            "6  Afghanistan       Asia  1982           39.854   12881816  978.011439\n",
            "7  Afghanistan       Asia  1987           40.822   13867957  852.395945\n",
            "8  Afghanistan       Asia  1992           41.674   16317921  649.341395\n",
            "9  Afghanistan       Asia  1997           41.763   22227415  635.341351\n"
          ]
        }
      ]
    },
    {
      "cell_type": "code",
      "source": [
        "print(df.shape)    #tamanho do arquivo"
      ],
      "metadata": {
        "colab": {
          "base_uri": "https://localhost:8080/"
        },
        "id": "W-MQ_stoslaa",
        "outputId": "ff2d9f72-3c0b-43df-958e-c56a00128202"
      },
      "execution_count": 5,
      "outputs": [
        {
          "output_type": "stream",
          "name": "stdout",
          "text": [
            "(3312, 6)\n"
          ]
        }
      ]
    },
    {
      "cell_type": "code",
      "source": [
        "print(df.columns)  #cabeçalho colunas"
      ],
      "metadata": {
        "colab": {
          "base_uri": "https://localhost:8080/"
        },
        "id": "aU-tArLzspEt",
        "outputId": "4d0be8d3-6483-4d2f-ca3b-bb881ea3f7f0"
      },
      "execution_count": 6,
      "outputs": [
        {
          "output_type": "stream",
          "name": "stdout",
          "text": [
            "Index(['País', 'Continente', 'Ano', 'Expect. de Vida', 'População', 'PIB'], dtype='object')\n"
          ]
        }
      ]
    },
    {
      "cell_type": "code",
      "source": [
        "print(df.dtypes)   #tipo de cada colunas"
      ],
      "metadata": {
        "colab": {
          "base_uri": "https://localhost:8080/"
        },
        "id": "6k689x0Dspgd",
        "outputId": "c4c967b0-b5f0-4d5f-811d-104bcb8e9667"
      },
      "execution_count": 7,
      "outputs": [
        {
          "output_type": "stream",
          "name": "stdout",
          "text": [
            "País                object\n",
            "Continente          object\n",
            "Ano                  int64\n",
            "Expect. de Vida    float64\n",
            "População            int64\n",
            "PIB                float64\n",
            "dtype: object\n"
          ]
        }
      ]
    },
    {
      "cell_type": "code",
      "source": [
        "print(df.tail())   #imprime ultimas linhas"
      ],
      "metadata": {
        "colab": {
          "base_uri": "https://localhost:8080/"
        },
        "id": "BDvd2NMFsrbe",
        "outputId": "47162fff-d74f-40b6-fc6f-d881a3e3ca25"
      },
      "execution_count": 8,
      "outputs": [
        {
          "output_type": "stream",
          "name": "stdout",
          "text": [
            "          País Continente   Ano  Expect. de Vida  População         PIB\n",
            "3307  Zimbabwe     Africa  1987           62.351    9216418  706.157306\n",
            "3308  Zimbabwe     Africa  1992           60.377   10704340  693.420786\n",
            "3309  Zimbabwe     Africa  1997           46.809   11404948  792.449960\n",
            "3310  Zimbabwe     Africa  2002           39.989   11926563  672.038623\n",
            "3311  Zimbabwe     Africa  2007           43.487   12311143  469.709298\n"
          ]
        }
      ]
    },
    {
      "cell_type": "code",
      "source": [
        "print(df.describe()) #resumo das informações, máx, min, desvio..."
      ],
      "metadata": {
        "colab": {
          "base_uri": "https://localhost:8080/"
        },
        "id": "8SMCGuT0stsw",
        "outputId": "53564787-227a-49f8-c819-32f9ca409120"
      },
      "execution_count": 9,
      "outputs": [
        {
          "output_type": "stream",
          "name": "stdout",
          "text": [
            "               Ano  Expect. de Vida     População            PIB\n",
            "count  3312.000000      3312.000000  3.312000e+03    3312.000000\n",
            "mean   1980.301630        65.246871  3.161489e+07   11317.115805\n",
            "std      16.927294        11.768412  1.041193e+08   11369.142739\n",
            "min    1950.000000        23.599000  5.941200e+04     241.165876\n",
            "25%    1967.000000        58.337500  2.678572e+06    2514.625266\n",
            "50%    1982.000000        69.610000  7.557218e+06    7838.505123\n",
            "75%    1996.000000        73.657750  1.958522e+07   17357.879170\n",
            "max    2007.000000        82.670000  1.318683e+09  113523.132900\n"
          ]
        }
      ]
    },
    {
      "cell_type": "code",
      "source": [
        "print(df[\"Continente\"].unique()) #tranzendo todos os dados unicos da coluna continente\n"
      ],
      "metadata": {
        "colab": {
          "base_uri": "https://localhost:8080/"
        },
        "id": "MqHqnSwOsv3j",
        "outputId": "bcaf0612-15d3-4518-969f-8e43168d69ff"
      },
      "execution_count": 10,
      "outputs": [
        {
          "output_type": "stream",
          "name": "stdout",
          "text": [
            "['Asia' 'Europe' 'Africa' 'Americas' nan 'FSU' 'Oceania']\n"
          ]
        }
      ]
    },
    {
      "cell_type": "code",
      "source": [
        "#Extraindo todos os dados apenas do continente ociania e colocando em uma váriavel\n",
        "\n",
        "oceania = df.loc[df[\"Continente\"] == \"Oceania\"]\n",
        "print(oceania.head())"
      ],
      "metadata": {
        "colab": {
          "base_uri": "https://localhost:8080/"
        },
        "id": "ePAztGRQs47j",
        "outputId": "e1368a04-2140-45a6-9b53-43be0158873a"
      },
      "execution_count": 13,
      "outputs": [
        {
          "output_type": "stream",
          "name": "stdout",
          "text": [
            "     País Continente   Ano  Expect. de Vida  População          PIB\n",
            "975  Fiji    Oceania  1962           56.494     421869  2039.393277\n",
            "976  Fiji    Oceania  1967           58.607     485000  2170.073285\n",
            "977  Fiji    Oceania  1972           60.642     544000  2797.759484\n",
            "978  Fiji    Oceania  1977           62.669     599339  3182.569600\n",
            "979  Fiji    Oceania  1982           64.683     658906  3209.257468\n"
          ]
        }
      ]
    },
    {
      "cell_type": "code",
      "source": [
        "#Agrupando dados por uma coluna, quantos paises tem nos continentes\n",
        "print(df.groupby(\"Continente\")[\"País\"].nunique())\n",
        "print(\"\")"
      ],
      "metadata": {
        "colab": {
          "base_uri": "https://localhost:8080/"
        },
        "id": "_iEStgQYs6_4",
        "outputId": "f11196ba-2cbc-4b78-cdf4-2ecbfe1cfd61"
      },
      "execution_count": 14,
      "outputs": [
        {
          "output_type": "stream",
          "name": "stdout",
          "text": [
            "Continente\n",
            "Africa      51\n",
            "Americas    25\n",
            "Asia        41\n",
            "Europe      35\n",
            "FSU          6\n",
            "Oceania      3\n",
            "Name: País, dtype: int64\n",
            "\n"
          ]
        }
      ]
    },
    {
      "cell_type": "code",
      "source": [
        "#mean = média / para cada ano qual era a expectativa de vida\n",
        "\n",
        "print(df.groupby(\"Ano\")[\"Expect. de Vida\"].mean())\n",
        "print(\"\")"
      ],
      "metadata": {
        "colab": {
          "base_uri": "https://localhost:8080/"
        },
        "id": "69U1OX5wtBtB",
        "outputId": "c60f1ea5-be5a-450b-a3b0-9f3b3720f38c"
      },
      "execution_count": 15,
      "outputs": [
        {
          "output_type": "stream",
          "name": "stdout",
          "text": [
            "Ano\n",
            "1950    62.002568\n",
            "1951    65.904167\n",
            "1952    49.206867\n",
            "1953    66.674563\n",
            "1954    67.459817\n",
            "1955    67.806757\n",
            "1956    67.950637\n",
            "1957    51.614590\n",
            "1958    68.815936\n",
            "1959    68.226579\n",
            "1960    68.470837\n",
            "1961    68.862480\n",
            "1962    54.035234\n",
            "1963    69.595735\n",
            "1964    70.063105\n",
            "1965    70.259881\n",
            "1966    70.447526\n",
            "1967    56.263629\n",
            "1968    70.689081\n",
            "1969    70.653896\n",
            "1970    70.961141\n",
            "1971    71.103976\n",
            "1972    58.474481\n",
            "1973    71.500338\n",
            "1974    71.778504\n",
            "1975    71.939218\n",
            "1976    72.158050\n",
            "1977    60.429090\n",
            "1978    72.717567\n",
            "1979    73.018717\n",
            "1980    73.064524\n",
            "1981    73.337399\n",
            "1982    62.365871\n",
            "1983    73.787778\n",
            "1984    74.100741\n",
            "1985    74.112222\n",
            "1986    74.452222\n",
            "1987    63.984860\n",
            "1988    74.760000\n",
            "1989    74.924444\n",
            "1990    74.283438\n",
            "1991    74.374848\n",
            "1992    65.008443\n",
            "1993    74.324545\n",
            "1994    74.456667\n",
            "1995    74.552727\n",
            "1996    75.029394\n",
            "1997    65.873799\n",
            "1998    75.569697\n",
            "1999    75.703636\n",
            "2000    76.026364\n",
            "2001    76.257879\n",
            "2002    66.835695\n",
            "2003    76.586667\n",
            "2004    76.921562\n",
            "2005    76.718667\n",
            "2006    77.887778\n",
            "2007    67.868557\n",
            "Name: Expect. de Vida, dtype: float64\n",
            "\n"
          ]
        }
      ]
    },
    {
      "cell_type": "code",
      "source": [
        "#média e soma do PIB\n",
        "\n",
        "print(df[\"PIB\"].mean())\n",
        "print(df[\"PIB\"].sum())"
      ],
      "metadata": {
        "colab": {
          "base_uri": "https://localhost:8080/"
        },
        "id": "BTQri6PptEPa",
        "outputId": "b66da9bd-5048-4c34-c133-ae03b8e613a0"
      },
      "execution_count": 16,
      "outputs": [
        {
          "output_type": "stream",
          "name": "stdout",
          "text": [
            "11317.115804696648\n",
            "37482287.5451553\n"
          ]
        }
      ]
    },
    {
      "cell_type": "code",
      "source": [],
      "metadata": {
        "id": "t5B5qZhjtJ8H"
      },
      "execution_count": null,
      "outputs": []
    }
  ]
}